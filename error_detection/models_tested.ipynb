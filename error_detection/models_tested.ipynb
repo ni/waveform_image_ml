{
  "nbformat": 4,
  "nbformat_minor": 0,
  "metadata": {
    "colab": {
      "name": "models_tested.ipynb",
      "provenance": [],
      "collapsed_sections": []
    },
    "kernelspec": {
      "name": "python3",
      "display_name": "Python 3"
    },
    "language_info": {
      "name": "python"
    }
  },
  "cells": [
    {
      "cell_type": "markdown",
      "source": [
        "## **Models Tested**\n",
        "This code contains a few models we tested. The results of these tests on a dataset with 1,800 images is in the file model_testing_results.xlsx. This code is not functional on its own and is simply a record of some other models."
      ],
      "metadata": {
        "id": "EDuRxMc8_bmU"
      }
    },
    {
      "cell_type": "code",
      "execution_count": null,
      "metadata": {
        "id": "yaHb4FrG_XMR"
      },
      "outputs": [],
      "source": [
        "# model 5\n",
        "model5 = tf.keras.models.Sequential([\n",
        "tf.keras.layers.Conv2D(16, (3,3), activation='relu', input_shape = (200, 275, 1)),\n",
        "tf.keras.layers.MaxPooling2D(2, 2),\n",
        "tf.keras.layers.Conv2D(32, (3,3), activation='relu'),\n",
        "tf.keras.layers.MaxPooling2D(2,2),\n",
        "tf.keras.layers.Conv2D(64, (3,3), activation='relu'),\n",
        "tf.keras.layers.MaxPooling2D(2,2),\n",
        "tf.keras.layers.Conv2D(64, (3,3), activation='relu'),\n",
        "tf.keras.layers.MaxPooling2D(2,2),\n",
        "tf.keras.layers.Flatten(),\n",
        "tf.keras.layers.Dropout(0.8),\n",
        "tf.keras.layers.Dense(512, activation='relu'),\n",
        "tf.keras.layers.Dense(1, activation='sigmoid')\n",
        "])\n",
        "\n",
        "model5.compile(loss='binary_crossentropy',\n",
        "optimizer=tf.keras.optimizers.RMSprop(lr=0.001),\n",
        "metrics='accuracy')"
      ]
    },
    {
      "cell_type": "code",
      "source": [
        "# model 6\n",
        "model6 = tf.keras.models.Sequential([\n",
        "tf.keras.layers.Conv2D(16, (3,3), activation='relu', input_shape = (200, 275, 1)),\n",
        "tf.keras.layers.MaxPooling2D(2, 2),\n",
        "tf.keras.layers.Conv2D(32, (3,3), activation='relu'),\n",
        "tf.keras.layers.MaxPooling2D(2,2),\n",
        "tf.keras.layers.Conv2D(64, (3,3), activation='relu'),\n",
        "tf.keras.layers.MaxPooling2D(2,2),\n",
        "tf.keras.layers.Conv2D(64, (3,3), activation='relu'),\n",
        "tf.keras.layers.MaxPooling2D(2,2),\n",
        "tf.keras.layers.Conv2D(64, (3,3), activation='relu'),\n",
        "tf.keras.layers.MaxPooling2D(2,2),\n",
        "tf.keras.layers.Conv2D(64, (3,3), activation='relu'),\n",
        "tf.keras.layers.MaxPooling2D(2,2),\n",
        "tf.keras.layers.Flatten(),\n",
        "tf.keras.layers.Dense(512, activation='relu'),\n",
        "tf.keras.layers.Dense(1, activation='sigmoid')\n",
        "])\n",
        "\n",
        "model6.compile(loss='binary_crossentropy',\n",
        "optimizer=tf.keras.optimizers.RMSprop(lr=0.001),\n",
        "metrics='accuracy')"
      ],
      "metadata": {
        "id": "wODOurPH_4A2"
      },
      "execution_count": null,
      "outputs": []
    },
    {
      "cell_type": "code",
      "source": [
        "# model 7\n",
        "model7 = tf.keras.models.Sequential([\n",
        "tf.keras.layers.Conv2D(16, (3,3), activation='relu', input_shape = (200, 275, 1)),\n",
        "tf.keras.layers.MaxPooling2D(2, 2),\n",
        "tf.keras.layers.Conv2D(32, (3,3), activation='relu'),\n",
        "tf.keras.layers.MaxPooling2D(2,2),\n",
        "tf.keras.layers.Conv2D(64, (3,3), activation='relu'),\n",
        "tf.keras.layers.MaxPooling2D(2,2),\n",
        "tf.keras.layers.Conv2D(64, (3,3), activation='relu'),\n",
        "tf.keras.layers.MaxPooling2D(2,2),\n",
        "tf.keras.layers.Conv2D(64, (3,3), activation='relu'),\n",
        "tf.keras.layers.MaxPooling2D(2,2),\n",
        "tf.keras.layers.Conv2D(120, (3,3), activation='relu'),\n",
        "tf.keras.layers.MaxPooling2D(2,2),\n",
        "tf.keras.layers.Flatten(),\n",
        "tf.keras.layers.Dense(512, activation='relu'),\n",
        "tf.keras.layers.Dense(1, activation='sigmoid')\n",
        "])\n",
        "\n",
        "model7.compile(loss='binary_crossentropy',metrics='accuracy')"
      ],
      "metadata": {
        "id": "XxMPKOYzAatS"
      },
      "execution_count": null,
      "outputs": []
    },
    {
      "cell_type": "code",
      "source": [
        "# model 8\n",
        "model8 = tf.keras.models.Sequential([\n",
        "tf.keras.layers.Conv2D(8, (3,3), activation='relu', input_shape=(200, 275, 1)),\n",
        "tf.keras.layers.MaxPooling2D(2, 2),\n",
        "tf.keras.layers.Conv2D(16, (3,3), activation='relu'),\n",
        "tf.keras.layers.MaxPooling2D(2,2),\n",
        "tf.keras.layers.Conv2D(32, (3,3), activation='relu'),\n",
        "tf.keras.layers.MaxPooling2D(2,2),\n",
        "tf.keras.layers.Conv2D(64, (3,3), activation='relu'),\n",
        "tf.keras.layers.MaxPooling2D(2,2),\n",
        "tf.keras.layers.Conv2D(64, (3,3), activation='relu'),\n",
        "tf.keras.layers.MaxPooling2D(2,2),\n",
        "tf.keras.layers.Flatten(),\n",
        "tf.keras.layers.Dense(512, activation='relu'),\n",
        "tf.keras.layers.Dense(1, activation='sigmoid')])\n",
        "\n",
        "model8.compile(loss='binary_crossentropy',metrics='accuracy')"
      ],
      "metadata": {
        "id": "vjRho1saAa1e"
      },
      "execution_count": null,
      "outputs": []
    },
    {
      "cell_type": "code",
      "source": [
        "# model 9\n",
        "model9 = tf.keras.models.Sequential([\n",
        "tf.keras.layers.Conv2D(8, (3,3), activation='relu', input_shape = (200, 275, 1)),\n",
        "tf.keras.layers.MaxPooling2D(2, 2),\n",
        "tf.keras.layers.Conv2D(16, (3,3), activation='relu'),\n",
        "tf.keras.layers.MaxPooling2D(2,2),\n",
        "tf.keras.layers.Conv2D(32, (3,3), activation='relu'),\n",
        "tf.keras.layers.MaxPooling2D(2,2),\n",
        "tf.keras.layers.Conv2D(64, (3,3), activation='relu'),\n",
        "tf.keras.layers.MaxPooling2D(2,2),\n",
        "tf.keras.layers.Conv2D(120, (3,3), activation='relu'),\n",
        "tf.keras.layers.MaxPooling2D(2,2),\n",
        "tf.keras.layers.Flatten(),\n",
        "tf.keras.layers.Dense(512, activation='relu'),\n",
        "tf.keras.layers.Dense(1, activation='sigmoid')\n",
        "])\n",
        "\n",
        "model9.compile(loss='binary_crossentropy',metrics='accuracy')"
      ],
      "metadata": {
        "id": "q1mNnala_4Si"
      },
      "execution_count": null,
      "outputs": []
    },
    {
      "cell_type": "code",
      "source": [
        "# model 10\n",
        "model10 = tf.keras.models.Sequential([\n",
        "tf.keras.layers.Conv2D(16, (3,3), activation='relu', input_shape=(200, 275, 1)),\n",
        "tf.keras.layers.MaxPooling2D(2, 2),\n",
        "tf.keras.layers.Conv2D(32, (5,5), activation='relu'),\n",
        "tf.keras.layers.MaxPooling2D(2,2),\n",
        "tf.keras.layers.Conv2D(64, (3,3), activation='relu'),\n",
        "tf.keras.layers.MaxPooling2D(2,2),\n",
        "tf.keras.layers.Conv2D(64, (3,3), activation='relu'),\n",
        "tf.keras.layers.MaxPooling2D(2,2),\n",
        "tf.keras.layers.Conv2D(64, (3,3), activation='relu'),\n",
        "tf.keras.layers.MaxPooling2D(2,2),\n",
        "tf.keras.layers.Flatten(),\n",
        "tf.keras.layers.Dense(512, activation='relu'),\n",
        "tf.keras.layers.Dense(1, activation='sigmoid')])\n",
        "\n",
        "model10.compile(loss='binary_crossentropy',metrics='accuracy')"
      ],
      "metadata": {
        "id": "h3aXy1XJAsQk"
      },
      "execution_count": null,
      "outputs": []
    },
    {
      "cell_type": "code",
      "source": [
        "# model 11\n",
        "model11 = tf.keras.models.Sequential([\n",
        "tf.keras.layers.Conv2D(16, (3,3), activation='relu', input_shape=(200, 275, 1)),\n",
        "tf.keras.layers.MaxPooling2D(2, 2),\n",
        "tf.keras.layers.Conv2D(32, (5,5), activation='relu'),\n",
        "tf.keras.layers.MaxPooling2D(2,2),\n",
        "tf.keras.layers.Conv2D(64, (3,3), activation='relu'),\n",
        "tf.keras.layers.MaxPooling2D(2,2),\n",
        "tf.keras.layers.Conv2D(64, (5,5), activation='relu'),\n",
        "tf.keras.layers.MaxPooling2D(2,2),\n",
        "tf.keras.layers.Conv2D(64, (3,3), activation='relu'),\n",
        "tf.keras.layers.MaxPooling2D(2,2),\n",
        "tf.keras.layers.Flatten(),\n",
        "tf.keras.layers.Dense(512, activation='relu'),\n",
        "tf.keras.layers.Dense(1, activation='sigmoid')])\n",
        "\n",
        "model11.compile(loss='binary_crossentropy',metrics='accuracy')"
      ],
      "metadata": {
        "id": "1vYHW8SlAsWh"
      },
      "execution_count": null,
      "outputs": []
    },
    {
      "cell_type": "code",
      "source": [
        "# model 12\n",
        "model12 = tf.keras.models.Sequential([\n",
        "tf.keras.layers.Conv2D(16, (3,3), activation='relu', input_shape=(200, 275, 1)),\n",
        "tf.keras.layers.MaxPooling2D(2, 2),\n",
        "tf.keras.layers.Conv2D(32, (5,5), activation='relu'),\n",
        "tf.keras.layers.MaxPooling2D(2,2),\n",
        "tf.keras.layers.Conv2D(64, (3,3), activation='relu'),\n",
        "tf.keras.layers.MaxPooling2D(2,2),\n",
        "tf.keras.layers.Conv2D(64, (3,3), activation='relu'),\n",
        "tf.keras.layers.MaxPooling2D(2,2),\n",
        "tf.keras.layers.Conv2D(64, (5,5), activation='relu'),\n",
        "tf.keras.layers.MaxPooling2D(2,2),\n",
        "tf.keras.layers.Flatten(),\n",
        "tf.keras.layers.Dense(512, activation='relu'),\n",
        "tf.keras.layers.Dense(1, activation='sigmoid')])\n",
        "\n",
        "model12.compile(loss='binary_crossentropy',metrics='accuracy')"
      ],
      "metadata": {
        "id": "zyhPB6HeBNeJ"
      },
      "execution_count": null,
      "outputs": []
    },
    {
      "cell_type": "code",
      "source": [
        "# model 13\n",
        "model13 = tf.keras.models.Sequential([\n",
        "tf.keras.layers.Conv2D(16, (5,5), activation='relu', input_shape=(200, 275, 1)),\n",
        "tf.keras.layers.MaxPooling2D(2, 2),\n",
        "tf.keras.layers.Conv2D(32, (5,5), activation='relu'),\n",
        "tf.keras.layers.MaxPooling2D(2,2),\n",
        "tf.keras.layers.Conv2D(64, (3,3), activation='relu'),\n",
        "tf.keras.layers.MaxPooling2D(2,2),\n",
        "tf.keras.layers.Conv2D(64, (3,3), activation='relu'),\n",
        "tf.keras.layers.MaxPooling2D(2,2),\n",
        "tf.keras.layers.Conv2D(64, (5,5), activation='relu'),\n",
        "tf.keras.layers.MaxPooling2D(2,2),\n",
        "tf.keras.layers.Flatten(),\n",
        "tf.keras.layers.Dense(512, activation='relu'),\n",
        "tf.keras.layers.Dense(1, activation='sigmoid')])\n",
        "\n",
        "model13.compile(loss='binary_crossentropy',metrics='accuracy')"
      ],
      "metadata": {
        "id": "3bUuvp6mBNg-"
      },
      "execution_count": null,
      "outputs": []
    },
    {
      "cell_type": "code",
      "source": [
        "# model 14\n",
        "model14 = tf.keras.models.Sequential([\n",
        "tf.keras.layers.Conv2D(16, (5,5), activation='relu', input_shape=(200, 275, 1)),\n",
        "tf.keras.layers.MaxPooling2D(2, 2),\n",
        "tf.keras.layers.Conv2D(32, (5,5), activation='relu'),\n",
        "tf.keras.layers.MaxPooling2D(2,2),\n",
        "tf.keras.layers.Conv2D(64, (5,5), activation='relu'),\n",
        "tf.keras.layers.MaxPooling2D(2,2),\n",
        "tf.keras.layers.Conv2D(64, (5,5), activation='relu'),\n",
        "tf.keras.layers.MaxPooling2D(2,2),\n",
        "tf.keras.layers.Conv2D(64, (5,5), activation='relu'),\n",
        "tf.keras.layers.MaxPooling2D(2,2),\n",
        "tf.keras.layers.Flatten(),\n",
        "tf.keras.layers.Dense(512, activation='relu'),\n",
        "tf.keras.layers.Dense(1, activation='sigmoid')])\n",
        "\n",
        "model14.compile(loss='binary_crossentropy',metrics='accuracy')"
      ],
      "metadata": {
        "id": "CgW0rDU6BNjs"
      },
      "execution_count": null,
      "outputs": []
    }
  ]
}